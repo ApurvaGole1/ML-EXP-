{
 "cells": [
  {
   "cell_type": "code",
   "execution_count": 10,
   "id": "fbbd5476-a26f-473b-a891-de45a0427dfb",
   "metadata": {},
   "outputs": [],
   "source": [
    "import pandas as pd\n",
    "import numpy as np\n",
    "import math\n",
    "import os"
   ]
  },
  {
   "cell_type": "code",
   "execution_count": 14,
   "id": "055c746d-9e3d-4d66-b42c-df0891124cab",
   "metadata": {},
   "outputs": [],
   "source": [
    "data = pd.read_csv(\"C:\\\\Users\\\\Kedar Matkar\\\\Desktop\\\\New folder\\\\Naive.csv\")"
   ]
  },
  {
   "cell_type": "code",
   "execution_count": 15,
   "id": "e56128bb-481e-4eca-b16c-1f70d03612ff",
   "metadata": {},
   "outputs": [
    {
     "data": {
      "text/html": [
       "<div>\n",
       "<style scoped>\n",
       "    .dataframe tbody tr th:only-of-type {\n",
       "        vertical-align: middle;\n",
       "    }\n",
       "\n",
       "    .dataframe tbody tr th {\n",
       "        vertical-align: top;\n",
       "    }\n",
       "\n",
       "    .dataframe thead th {\n",
       "        text-align: right;\n",
       "    }\n",
       "</style>\n",
       "<table border=\"1\" class=\"dataframe\">\n",
       "  <thead>\n",
       "    <tr style=\"text-align: right;\">\n",
       "      <th></th>\n",
       "      <th>Outlook</th>\n",
       "      <th>play</th>\n",
       "    </tr>\n",
       "  </thead>\n",
       "  <tbody>\n",
       "    <tr>\n",
       "      <th>0</th>\n",
       "      <td>Rainy</td>\n",
       "      <td>Yes</td>\n",
       "    </tr>\n",
       "    <tr>\n",
       "      <th>1</th>\n",
       "      <td>Sunny</td>\n",
       "      <td>Yes</td>\n",
       "    </tr>\n",
       "    <tr>\n",
       "      <th>2</th>\n",
       "      <td>Overcast</td>\n",
       "      <td>Yes</td>\n",
       "    </tr>\n",
       "    <tr>\n",
       "      <th>3</th>\n",
       "      <td>Overcast</td>\n",
       "      <td>Yes</td>\n",
       "    </tr>\n",
       "    <tr>\n",
       "      <th>4</th>\n",
       "      <td>Sunny</td>\n",
       "      <td>No</td>\n",
       "    </tr>\n",
       "    <tr>\n",
       "      <th>5</th>\n",
       "      <td>Rainy</td>\n",
       "      <td>Yes</td>\n",
       "    </tr>\n",
       "    <tr>\n",
       "      <th>6</th>\n",
       "      <td>Sunny</td>\n",
       "      <td>Yes</td>\n",
       "    </tr>\n",
       "    <tr>\n",
       "      <th>7</th>\n",
       "      <td>Overcast</td>\n",
       "      <td>Yes</td>\n",
       "    </tr>\n",
       "    <tr>\n",
       "      <th>8</th>\n",
       "      <td>Riany</td>\n",
       "      <td>No</td>\n",
       "    </tr>\n",
       "    <tr>\n",
       "      <th>9</th>\n",
       "      <td>Sunny</td>\n",
       "      <td>No</td>\n",
       "    </tr>\n",
       "    <tr>\n",
       "      <th>10</th>\n",
       "      <td>Sunny</td>\n",
       "      <td>Yes</td>\n",
       "    </tr>\n",
       "    <tr>\n",
       "      <th>11</th>\n",
       "      <td>Rainy</td>\n",
       "      <td>No</td>\n",
       "    </tr>\n",
       "    <tr>\n",
       "      <th>12</th>\n",
       "      <td>Overcast</td>\n",
       "      <td>Yes</td>\n",
       "    </tr>\n",
       "    <tr>\n",
       "      <th>13</th>\n",
       "      <td>Overcast</td>\n",
       "      <td>Yes</td>\n",
       "    </tr>\n",
       "  </tbody>\n",
       "</table>\n",
       "</div>"
      ],
      "text/plain": [
       "     Outlook play\n",
       "0      Rainy  Yes\n",
       "1      Sunny  Yes\n",
       "2   Overcast  Yes\n",
       "3   Overcast  Yes\n",
       "4      Sunny   No\n",
       "5      Rainy  Yes\n",
       "6      Sunny  Yes\n",
       "7   Overcast  Yes\n",
       "8      Riany   No\n",
       "9      Sunny   No\n",
       "10     Sunny  Yes\n",
       "11     Rainy   No\n",
       "12  Overcast  Yes\n",
       "13  Overcast  Yes"
      ]
     },
     "execution_count": 15,
     "metadata": {},
     "output_type": "execute_result"
    }
   ],
   "source": [
    "data"
   ]
  },
  {
   "cell_type": "code",
   "execution_count": 16,
   "id": "162f61ec-6f3f-41b2-a467-e9e9863ddfae",
   "metadata": {},
   "outputs": [],
   "source": [
    "r = 0\n",
    "s = 0\n",
    "for i in data['play']:\n",
    "    if(i==\"Yes\"):\n",
    "        r+=1\n",
    "    elif(i==\"No\"):\n",
    "        s+=1        "
   ]
  },
  {
   "cell_type": "code",
   "execution_count": 17,
   "id": "ec522b42-c347-443b-b49c-0f7b44ef5fa0",
   "metadata": {},
   "outputs": [
    {
     "name": "stdout",
     "output_type": "stream",
     "text": [
      "10\n"
     ]
    }
   ],
   "source": [
    "print(r)"
   ]
  },
  {
   "cell_type": "code",
   "execution_count": 19,
   "id": "6996a24b-6fd9-430b-805d-726217d85711",
   "metadata": {},
   "outputs": [
    {
     "name": "stdout",
     "output_type": "stream",
     "text": [
      "2\n"
     ]
    }
   ],
   "source": [
    "t = 0\n",
    "u = 0\n",
    "for i,j in zip(data[\"Outlook\"], data[\"play\"]):\n",
    "    if(i==\"Rainy\"):\n",
    "        if(j==\"Yes\"):\n",
    "            t+=1\n",
    "        else:\n",
    "            u+=1\n",
    "print(t)"
   ]
  },
  {
   "cell_type": "code",
   "execution_count": 20,
   "id": "d5206ff9-1466-44a2-bb66-0d9e0e30d4d3",
   "metadata": {},
   "outputs": [
    {
     "name": "stdout",
     "output_type": "stream",
     "text": [
      "3\n"
     ]
    }
   ],
   "source": [
    "c = 0\n",
    "d = 0\n",
    "for i,j in zip(data[\"Outlook\"], data[\"play\"]):\n",
    "    if(i==\"Sunny\"):\n",
    "        if(j==\"Yes\"):\n",
    "            c+=1\n",
    "        else:\n",
    "            d+=1\n",
    "print(c)"
   ]
  },
  {
   "cell_type": "code",
   "execution_count": 21,
   "id": "2a5b46c0-a60f-46cc-bb83-1c3d15a405bd",
   "metadata": {},
   "outputs": [
    {
     "name": "stdout",
     "output_type": "stream",
     "text": [
      "5\n"
     ]
    }
   ],
   "source": [
    "e = 0\n",
    "f = 0\n",
    "for i,j in zip(data[\"Outlook\"], data[\"play\"]):\n",
    "    if(i==\"Overcast\"):\n",
    "        if(j==\"Yes\"):\n",
    "            e+=1\n",
    "        else:\n",
    "            f+=1\n",
    "print(e)"
   ]
  },
  {
   "cell_type": "code",
   "execution_count": 22,
   "id": "eb53f7b3-bb2a-45a6-a839-aed050389336",
   "metadata": {},
   "outputs": [
    {
     "name": "stdout",
     "output_type": "stream",
     "text": [
      "5\n"
     ]
    }
   ],
   "source": [
    "g = (t+c+e)/14 # yes\n",
    "h = (u+d+f)/14 #No\n",
    "totals = c+d\n",
    "totalo = e+f\n",
    "totalr = t+u\n",
    "print(totals)"
   ]
  },
  {
   "cell_type": "code",
   "execution_count": 23,
   "id": "a7d4d05e-b7cd-4093-83a1-0b3edadadfb6",
   "metadata": {},
   "outputs": [],
   "source": [
    "pro_s = totals/14\n",
    "pro_r = totalr/14\n",
    "pro_o = totalo/14\n",
    "pro_y = r/14\n",
    "pro_n = s/14"
   ]
  },
  {
   "cell_type": "code",
   "execution_count": 24,
   "id": "05848770-ef9c-4349-81d7-514b369bee70",
   "metadata": {},
   "outputs": [
    {
     "name": "stdout",
     "output_type": "stream",
     "text": [
      "probability of yes of sunny\n",
      "0.6\n"
     ]
    }
   ],
   "source": [
    "print(\"probability of yes of sunny\")\n",
    "print((c/r)*pro_y/pro_s)"
   ]
  },
  {
   "cell_type": "code",
   "execution_count": 25,
   "id": "564274f1-dbb3-4d66-9bb4-768ec3c11693",
   "metadata": {},
   "outputs": [
    {
     "name": "stdout",
     "output_type": "stream",
     "text": [
      "probability of no of sunny\n",
      "0.39999999999999997\n"
     ]
    }
   ],
   "source": [
    "print(\"probability of no of sunny\")\n",
    "print((d/s)*pro_n/pro_s)"
   ]
  },
  {
   "cell_type": "code",
   "execution_count": null,
   "id": "24c8fcde-7470-4956-a458-5e3014b2f6dd",
   "metadata": {},
   "outputs": [],
   "source": []
  }
 ],
 "metadata": {
  "kernelspec": {
   "display_name": "Python 3 (ipykernel)",
   "language": "python",
   "name": "python3"
  },
  "language_info": {
   "codemirror_mode": {
    "name": "ipython",
    "version": 3
   },
   "file_extension": ".py",
   "mimetype": "text/x-python",
   "name": "python",
   "nbconvert_exporter": "python",
   "pygments_lexer": "ipython3",
   "version": "3.11.6"
  }
 },
 "nbformat": 4,
 "nbformat_minor": 5
}
