{
 "cells": [
  {
   "cell_type": "code",
   "execution_count": 1,
   "metadata": {},
   "outputs": [],
   "source": [
    "# importing required libraries\n",
    "import numpy as np\n",
    "import matplotlib.pyplot as plt\n",
    "import pandas as pd\n"
   ]
  },
  {
   "cell_type": "code",
   "execution_count": 2,
   "metadata": {},
   "outputs": [],
   "source": [
    "# importing or loading the dataset\n",
    "dataset = pd.read_csv('wine.csv')\n",
    "\n",
    "# distributing the dataset into two components X and Y\n",
    "X = dataset.iloc[:, 0:13].values\n",
    "y = dataset.iloc[:, 13].values\n"
   ]
  },
  {
   "cell_type": "code",
   "execution_count": 3,
   "metadata": {},
   "outputs": [],
   "source": [
    "# Splitting the X and Y into the\n",
    "# Training set and Testing set\n",
    "from sklearn.model_selection import train_test_split\n",
    "\n",
    "X_train, X_test, y_train, y_test = train_test_split(X, y, test_size = 0.2, random_state = 0)\n"
   ]
  },
  {
   "cell_type": "code",
   "execution_count": 4,
   "metadata": {},
   "outputs": [],
   "source": [
    "# performing preprocessing part\n",
    "from sklearn.preprocessing import StandardScaler\n",
    "sc = StandardScaler()\n",
    "\n",
    "X_train = sc.fit_transform(X_train)\n",
    "X_test = sc.transform(X_test)\n"
   ]
  },
  {
   "cell_type": "code",
   "execution_count": 5,
   "metadata": {},
   "outputs": [],
   "source": [
    "# Applying PCA function on training\n",
    "# and testing set of X component\n",
    "from sklearn.decomposition import PCA\n",
    "\n",
    "pca = PCA(n_components = 2)\n",
    "\n",
    "X_train = pca.fit_transform(X_train)\n",
    "X_test = pca.transform(X_test)\n",
    "\n",
    "explained_variance = pca.explained_variance_ratio_\n"
   ]
  },
  {
   "cell_type": "code",
   "execution_count": 6,
   "metadata": {},
   "outputs": [
    {
     "data": {
      "text/html": [
       "<style>#sk-container-id-1 {\n",
       "  /* Definition of color scheme common for light and dark mode */\n",
       "  --sklearn-color-text: black;\n",
       "  --sklearn-color-line: gray;\n",
       "  /* Definition of color scheme for unfitted estimators */\n",
       "  --sklearn-color-unfitted-level-0: #fff5e6;\n",
       "  --sklearn-color-unfitted-level-1: #f6e4d2;\n",
       "  --sklearn-color-unfitted-level-2: #ffe0b3;\n",
       "  --sklearn-color-unfitted-level-3: chocolate;\n",
       "  /* Definition of color scheme for fitted estimators */\n",
       "  --sklearn-color-fitted-level-0: #f0f8ff;\n",
       "  --sklearn-color-fitted-level-1: #d4ebff;\n",
       "  --sklearn-color-fitted-level-2: #b3dbfd;\n",
       "  --sklearn-color-fitted-level-3: cornflowerblue;\n",
       "\n",
       "  /* Specific color for light theme */\n",
       "  --sklearn-color-text-on-default-background: var(--sg-text-color, var(--theme-code-foreground, var(--jp-content-font-color1, black)));\n",
       "  --sklearn-color-background: var(--sg-background-color, var(--theme-background, var(--jp-layout-color0, white)));\n",
       "  --sklearn-color-border-box: var(--sg-text-color, var(--theme-code-foreground, var(--jp-content-font-color1, black)));\n",
       "  --sklearn-color-icon: #696969;\n",
       "\n",
       "  @media (prefers-color-scheme: dark) {\n",
       "    /* Redefinition of color scheme for dark theme */\n",
       "    --sklearn-color-text-on-default-background: var(--sg-text-color, var(--theme-code-foreground, var(--jp-content-font-color1, white)));\n",
       "    --sklearn-color-background: var(--sg-background-color, var(--theme-background, var(--jp-layout-color0, #111)));\n",
       "    --sklearn-color-border-box: var(--sg-text-color, var(--theme-code-foreground, var(--jp-content-font-color1, white)));\n",
       "    --sklearn-color-icon: #878787;\n",
       "  }\n",
       "}\n",
       "\n",
       "#sk-container-id-1 {\n",
       "  color: var(--sklearn-color-text);\n",
       "}\n",
       "\n",
       "#sk-container-id-1 pre {\n",
       "  padding: 0;\n",
       "}\n",
       "\n",
       "#sk-container-id-1 input.sk-hidden--visually {\n",
       "  border: 0;\n",
       "  clip: rect(1px 1px 1px 1px);\n",
       "  clip: rect(1px, 1px, 1px, 1px);\n",
       "  height: 1px;\n",
       "  margin: -1px;\n",
       "  overflow: hidden;\n",
       "  padding: 0;\n",
       "  position: absolute;\n",
       "  width: 1px;\n",
       "}\n",
       "\n",
       "#sk-container-id-1 div.sk-dashed-wrapped {\n",
       "  border: 1px dashed var(--sklearn-color-line);\n",
       "  margin: 0 0.4em 0.5em 0.4em;\n",
       "  box-sizing: border-box;\n",
       "  padding-bottom: 0.4em;\n",
       "  background-color: var(--sklearn-color-background);\n",
       "}\n",
       "\n",
       "#sk-container-id-1 div.sk-container {\n",
       "  /* jupyter's `normalize.less` sets `[hidden] { display: none; }`\n",
       "     but bootstrap.min.css set `[hidden] { display: none !important; }`\n",
       "     so we also need the `!important` here to be able to override the\n",
       "     default hidden behavior on the sphinx rendered scikit-learn.org.\n",
       "     See: https://github.com/scikit-learn/scikit-learn/issues/21755 */\n",
       "  display: inline-block !important;\n",
       "  position: relative;\n",
       "}\n",
       "\n",
       "#sk-container-id-1 div.sk-text-repr-fallback {\n",
       "  display: none;\n",
       "}\n",
       "\n",
       "div.sk-parallel-item,\n",
       "div.sk-serial,\n",
       "div.sk-item {\n",
       "  /* draw centered vertical line to link estimators */\n",
       "  background-image: linear-gradient(var(--sklearn-color-text-on-default-background), var(--sklearn-color-text-on-default-background));\n",
       "  background-size: 2px 100%;\n",
       "  background-repeat: no-repeat;\n",
       "  background-position: center center;\n",
       "}\n",
       "\n",
       "/* Parallel-specific style estimator block */\n",
       "\n",
       "#sk-container-id-1 div.sk-parallel-item::after {\n",
       "  content: \"\";\n",
       "  width: 100%;\n",
       "  border-bottom: 2px solid var(--sklearn-color-text-on-default-background);\n",
       "  flex-grow: 1;\n",
       "}\n",
       "\n",
       "#sk-container-id-1 div.sk-parallel {\n",
       "  display: flex;\n",
       "  align-items: stretch;\n",
       "  justify-content: center;\n",
       "  background-color: var(--sklearn-color-background);\n",
       "  position: relative;\n",
       "}\n",
       "\n",
       "#sk-container-id-1 div.sk-parallel-item {\n",
       "  display: flex;\n",
       "  flex-direction: column;\n",
       "}\n",
       "\n",
       "#sk-container-id-1 div.sk-parallel-item:first-child::after {\n",
       "  align-self: flex-end;\n",
       "  width: 50%;\n",
       "}\n",
       "\n",
       "#sk-container-id-1 div.sk-parallel-item:last-child::after {\n",
       "  align-self: flex-start;\n",
       "  width: 50%;\n",
       "}\n",
       "\n",
       "#sk-container-id-1 div.sk-parallel-item:only-child::after {\n",
       "  width: 0;\n",
       "}\n",
       "\n",
       "/* Serial-specific style estimator block */\n",
       "\n",
       "#sk-container-id-1 div.sk-serial {\n",
       "  display: flex;\n",
       "  flex-direction: column;\n",
       "  align-items: center;\n",
       "  background-color: var(--sklearn-color-background);\n",
       "  padding-right: 1em;\n",
       "  padding-left: 1em;\n",
       "}\n",
       "\n",
       "\n",
       "/* Toggleable style: style used for estimator/Pipeline/ColumnTransformer box that is\n",
       "clickable and can be expanded/collapsed.\n",
       "- Pipeline and ColumnTransformer use this feature and define the default style\n",
       "- Estimators will overwrite some part of the style using the `sk-estimator` class\n",
       "*/\n",
       "\n",
       "/* Pipeline and ColumnTransformer style (default) */\n",
       "\n",
       "#sk-container-id-1 div.sk-toggleable {\n",
       "  /* Default theme specific background. It is overwritten whether we have a\n",
       "  specific estimator or a Pipeline/ColumnTransformer */\n",
       "  background-color: var(--sklearn-color-background);\n",
       "}\n",
       "\n",
       "/* Toggleable label */\n",
       "#sk-container-id-1 label.sk-toggleable__label {\n",
       "  cursor: pointer;\n",
       "  display: block;\n",
       "  width: 100%;\n",
       "  margin-bottom: 0;\n",
       "  padding: 0.5em;\n",
       "  box-sizing: border-box;\n",
       "  text-align: center;\n",
       "}\n",
       "\n",
       "#sk-container-id-1 label.sk-toggleable__label-arrow:before {\n",
       "  /* Arrow on the left of the label */\n",
       "  content: \"▸\";\n",
       "  float: left;\n",
       "  margin-right: 0.25em;\n",
       "  color: var(--sklearn-color-icon);\n",
       "}\n",
       "\n",
       "#sk-container-id-1 label.sk-toggleable__label-arrow:hover:before {\n",
       "  color: var(--sklearn-color-text);\n",
       "}\n",
       "\n",
       "/* Toggleable content - dropdown */\n",
       "\n",
       "#sk-container-id-1 div.sk-toggleable__content {\n",
       "  max-height: 0;\n",
       "  max-width: 0;\n",
       "  overflow: hidden;\n",
       "  text-align: left;\n",
       "  /* unfitted */\n",
       "  background-color: var(--sklearn-color-unfitted-level-0);\n",
       "}\n",
       "\n",
       "#sk-container-id-1 div.sk-toggleable__content.fitted {\n",
       "  /* fitted */\n",
       "  background-color: var(--sklearn-color-fitted-level-0);\n",
       "}\n",
       "\n",
       "#sk-container-id-1 div.sk-toggleable__content pre {\n",
       "  margin: 0.2em;\n",
       "  border-radius: 0.25em;\n",
       "  color: var(--sklearn-color-text);\n",
       "  /* unfitted */\n",
       "  background-color: var(--sklearn-color-unfitted-level-0);\n",
       "}\n",
       "\n",
       "#sk-container-id-1 div.sk-toggleable__content.fitted pre {\n",
       "  /* unfitted */\n",
       "  background-color: var(--sklearn-color-fitted-level-0);\n",
       "}\n",
       "\n",
       "#sk-container-id-1 input.sk-toggleable__control:checked~div.sk-toggleable__content {\n",
       "  /* Expand drop-down */\n",
       "  max-height: 200px;\n",
       "  max-width: 100%;\n",
       "  overflow: auto;\n",
       "}\n",
       "\n",
       "#sk-container-id-1 input.sk-toggleable__control:checked~label.sk-toggleable__label-arrow:before {\n",
       "  content: \"▾\";\n",
       "}\n",
       "\n",
       "/* Pipeline/ColumnTransformer-specific style */\n",
       "\n",
       "#sk-container-id-1 div.sk-label input.sk-toggleable__control:checked~label.sk-toggleable__label {\n",
       "  color: var(--sklearn-color-text);\n",
       "  background-color: var(--sklearn-color-unfitted-level-2);\n",
       "}\n",
       "\n",
       "#sk-container-id-1 div.sk-label.fitted input.sk-toggleable__control:checked~label.sk-toggleable__label {\n",
       "  background-color: var(--sklearn-color-fitted-level-2);\n",
       "}\n",
       "\n",
       "/* Estimator-specific style */\n",
       "\n",
       "/* Colorize estimator box */\n",
       "#sk-container-id-1 div.sk-estimator input.sk-toggleable__control:checked~label.sk-toggleable__label {\n",
       "  /* unfitted */\n",
       "  background-color: var(--sklearn-color-unfitted-level-2);\n",
       "}\n",
       "\n",
       "#sk-container-id-1 div.sk-estimator.fitted input.sk-toggleable__control:checked~label.sk-toggleable__label {\n",
       "  /* fitted */\n",
       "  background-color: var(--sklearn-color-fitted-level-2);\n",
       "}\n",
       "\n",
       "#sk-container-id-1 div.sk-label label.sk-toggleable__label,\n",
       "#sk-container-id-1 div.sk-label label {\n",
       "  /* The background is the default theme color */\n",
       "  color: var(--sklearn-color-text-on-default-background);\n",
       "}\n",
       "\n",
       "/* On hover, darken the color of the background */\n",
       "#sk-container-id-1 div.sk-label:hover label.sk-toggleable__label {\n",
       "  color: var(--sklearn-color-text);\n",
       "  background-color: var(--sklearn-color-unfitted-level-2);\n",
       "}\n",
       "\n",
       "/* Label box, darken color on hover, fitted */\n",
       "#sk-container-id-1 div.sk-label.fitted:hover label.sk-toggleable__label.fitted {\n",
       "  color: var(--sklearn-color-text);\n",
       "  background-color: var(--sklearn-color-fitted-level-2);\n",
       "}\n",
       "\n",
       "/* Estimator label */\n",
       "\n",
       "#sk-container-id-1 div.sk-label label {\n",
       "  font-family: monospace;\n",
       "  font-weight: bold;\n",
       "  display: inline-block;\n",
       "  line-height: 1.2em;\n",
       "}\n",
       "\n",
       "#sk-container-id-1 div.sk-label-container {\n",
       "  text-align: center;\n",
       "}\n",
       "\n",
       "/* Estimator-specific */\n",
       "#sk-container-id-1 div.sk-estimator {\n",
       "  font-family: monospace;\n",
       "  border: 1px dotted var(--sklearn-color-border-box);\n",
       "  border-radius: 0.25em;\n",
       "  box-sizing: border-box;\n",
       "  margin-bottom: 0.5em;\n",
       "  /* unfitted */\n",
       "  background-color: var(--sklearn-color-unfitted-level-0);\n",
       "}\n",
       "\n",
       "#sk-container-id-1 div.sk-estimator.fitted {\n",
       "  /* fitted */\n",
       "  background-color: var(--sklearn-color-fitted-level-0);\n",
       "}\n",
       "\n",
       "/* on hover */\n",
       "#sk-container-id-1 div.sk-estimator:hover {\n",
       "  /* unfitted */\n",
       "  background-color: var(--sklearn-color-unfitted-level-2);\n",
       "}\n",
       "\n",
       "#sk-container-id-1 div.sk-estimator.fitted:hover {\n",
       "  /* fitted */\n",
       "  background-color: var(--sklearn-color-fitted-level-2);\n",
       "}\n",
       "\n",
       "/* Specification for estimator info (e.g. \"i\" and \"?\") */\n",
       "\n",
       "/* Common style for \"i\" and \"?\" */\n",
       "\n",
       ".sk-estimator-doc-link,\n",
       "a:link.sk-estimator-doc-link,\n",
       "a:visited.sk-estimator-doc-link {\n",
       "  float: right;\n",
       "  font-size: smaller;\n",
       "  line-height: 1em;\n",
       "  font-family: monospace;\n",
       "  background-color: var(--sklearn-color-background);\n",
       "  border-radius: 1em;\n",
       "  height: 1em;\n",
       "  width: 1em;\n",
       "  text-decoration: none !important;\n",
       "  margin-left: 1ex;\n",
       "  /* unfitted */\n",
       "  border: var(--sklearn-color-unfitted-level-1) 1pt solid;\n",
       "  color: var(--sklearn-color-unfitted-level-1);\n",
       "}\n",
       "\n",
       ".sk-estimator-doc-link.fitted,\n",
       "a:link.sk-estimator-doc-link.fitted,\n",
       "a:visited.sk-estimator-doc-link.fitted {\n",
       "  /* fitted */\n",
       "  border: var(--sklearn-color-fitted-level-1) 1pt solid;\n",
       "  color: var(--sklearn-color-fitted-level-1);\n",
       "}\n",
       "\n",
       "/* On hover */\n",
       "div.sk-estimator:hover .sk-estimator-doc-link:hover,\n",
       ".sk-estimator-doc-link:hover,\n",
       "div.sk-label-container:hover .sk-estimator-doc-link:hover,\n",
       ".sk-estimator-doc-link:hover {\n",
       "  /* unfitted */\n",
       "  background-color: var(--sklearn-color-unfitted-level-3);\n",
       "  color: var(--sklearn-color-background);\n",
       "  text-decoration: none;\n",
       "}\n",
       "\n",
       "div.sk-estimator.fitted:hover .sk-estimator-doc-link.fitted:hover,\n",
       ".sk-estimator-doc-link.fitted:hover,\n",
       "div.sk-label-container:hover .sk-estimator-doc-link.fitted:hover,\n",
       ".sk-estimator-doc-link.fitted:hover {\n",
       "  /* fitted */\n",
       "  background-color: var(--sklearn-color-fitted-level-3);\n",
       "  color: var(--sklearn-color-background);\n",
       "  text-decoration: none;\n",
       "}\n",
       "\n",
       "/* Span, style for the box shown on hovering the info icon */\n",
       ".sk-estimator-doc-link span {\n",
       "  display: none;\n",
       "  z-index: 9999;\n",
       "  position: relative;\n",
       "  font-weight: normal;\n",
       "  right: .2ex;\n",
       "  padding: .5ex;\n",
       "  margin: .5ex;\n",
       "  width: min-content;\n",
       "  min-width: 20ex;\n",
       "  max-width: 50ex;\n",
       "  color: var(--sklearn-color-text);\n",
       "  box-shadow: 2pt 2pt 4pt #999;\n",
       "  /* unfitted */\n",
       "  background: var(--sklearn-color-unfitted-level-0);\n",
       "  border: .5pt solid var(--sklearn-color-unfitted-level-3);\n",
       "}\n",
       "\n",
       ".sk-estimator-doc-link.fitted span {\n",
       "  /* fitted */\n",
       "  background: var(--sklearn-color-fitted-level-0);\n",
       "  border: var(--sklearn-color-fitted-level-3);\n",
       "}\n",
       "\n",
       ".sk-estimator-doc-link:hover span {\n",
       "  display: block;\n",
       "}\n",
       "\n",
       "/* \"?\"-specific style due to the `<a>` HTML tag */\n",
       "\n",
       "#sk-container-id-1 a.estimator_doc_link {\n",
       "  float: right;\n",
       "  font-size: 1rem;\n",
       "  line-height: 1em;\n",
       "  font-family: monospace;\n",
       "  background-color: var(--sklearn-color-background);\n",
       "  border-radius: 1rem;\n",
       "  height: 1rem;\n",
       "  width: 1rem;\n",
       "  text-decoration: none;\n",
       "  /* unfitted */\n",
       "  color: var(--sklearn-color-unfitted-level-1);\n",
       "  border: var(--sklearn-color-unfitted-level-1) 1pt solid;\n",
       "}\n",
       "\n",
       "#sk-container-id-1 a.estimator_doc_link.fitted {\n",
       "  /* fitted */\n",
       "  border: var(--sklearn-color-fitted-level-1) 1pt solid;\n",
       "  color: var(--sklearn-color-fitted-level-1);\n",
       "}\n",
       "\n",
       "/* On hover */\n",
       "#sk-container-id-1 a.estimator_doc_link:hover {\n",
       "  /* unfitted */\n",
       "  background-color: var(--sklearn-color-unfitted-level-3);\n",
       "  color: var(--sklearn-color-background);\n",
       "  text-decoration: none;\n",
       "}\n",
       "\n",
       "#sk-container-id-1 a.estimator_doc_link.fitted:hover {\n",
       "  /* fitted */\n",
       "  background-color: var(--sklearn-color-fitted-level-3);\n",
       "}\n",
       "</style><div id=\"sk-container-id-1\" class=\"sk-top-container\"><div class=\"sk-text-repr-fallback\"><pre>LogisticRegression(random_state=0)</pre><b>In a Jupyter environment, please rerun this cell to show the HTML representation or trust the notebook. <br />On GitHub, the HTML representation is unable to render, please try loading this page with nbviewer.org.</b></div><div class=\"sk-container\" hidden><div class=\"sk-item\"><div class=\"sk-estimator fitted sk-toggleable\"><input class=\"sk-toggleable__control sk-hidden--visually\" id=\"sk-estimator-id-1\" type=\"checkbox\" checked><label for=\"sk-estimator-id-1\" class=\"sk-toggleable__label fitted sk-toggleable__label-arrow fitted\">&nbsp;&nbsp;LogisticRegression<a class=\"sk-estimator-doc-link fitted\" rel=\"noreferrer\" target=\"_blank\" href=\"https://scikit-learn.org/1.4/modules/generated/sklearn.linear_model.LogisticRegression.html\">?<span>Documentation for LogisticRegression</span></a><span class=\"sk-estimator-doc-link fitted\">i<span>Fitted</span></span></label><div class=\"sk-toggleable__content fitted\"><pre>LogisticRegression(random_state=0)</pre></div> </div></div></div></div>"
      ],
      "text/plain": [
       "LogisticRegression(random_state=0)"
      ]
     },
     "execution_count": 6,
     "metadata": {},
     "output_type": "execute_result"
    }
   ],
   "source": [
    "# Fitting Logistic Regression To the training set\n",
    "from sklearn.linear_model import LogisticRegression \n",
    "\n",
    "classifier = LogisticRegression(random_state = 0)\n",
    "classifier.fit(X_train, y_train)\n"
   ]
  },
  {
   "cell_type": "code",
   "execution_count": 7,
   "metadata": {},
   "outputs": [],
   "source": [
    "# Predicting the test set result using \n",
    "# predict function under LogisticRegression \n",
    "y_pred = classifier.predict(X_test)\n"
   ]
  },
  {
   "cell_type": "code",
   "execution_count": 8,
   "metadata": {},
   "outputs": [],
   "source": [
    "# making confusion matrix between\n",
    "# test set of Y and predicted value.\n",
    "from sklearn.metrics import confusion_matrix\n",
    "\n",
    "cm = confusion_matrix(y_test, y_pred)\n"
   ]
  },
  {
   "cell_type": "code",
   "execution_count": 9,
   "metadata": {},
   "outputs": [
    {
     "name": "stderr",
     "output_type": "stream",
     "text": [
      "C:\\Users\\shrey\\AppData\\Local\\Temp\\ipykernel_12652\\2134477525.py:19: UserWarning: *c* argument looks like a single numeric RGB or RGBA sequence, which should be avoided as value-mapping will have precedence in case its length matches with *x* & *y*.  Please use the *color* keyword-argument or provide a 2D array with a single row if you intend to specify the same RGB or RGBA value for all points.\n",
      "  plt.scatter(X_set[y_set == j, 0], X_set[y_set == j, 1],\n"
     ]
    },
    {
     "data": {
      "image/png": "[encoded data removed]",
      "text/plain": [
       "<Figure size 640x480 with 1 Axes>"
      ]
     },
     "metadata": {},
     "output_type": "display_data"
    }
   ],
   "source": [
    "# Predicting the training set\n",
    "# result through scatter plot \n",
    "from matplotlib.colors import ListedColormap\n",
    "\n",
    "X_set, y_set = X_train, y_train\n",
    "X1, X2 = np.meshgrid(np.arange(start = X_set[:, 0].min() - 1,\n",
    "\t\t\t\t\tstop = X_set[:, 0].max() + 1, step = 0.01),\n",
    "\t\t\t\t\tnp.arange(start = X_set[:, 1].min() - 1,\n",
    "\t\t\t\t\tstop = X_set[:, 1].max() + 1, step = 0.01))\n",
    "\n",
    "plt.contourf(X1, X2, classifier.predict(np.array([X1.ravel(),\n",
    "\t\t\tX2.ravel()]).T).reshape(X1.shape), alpha = 0.75,\n",
    "\t\t\tcmap = ListedColormap(('yellow', 'white', 'aquamarine')))\n",
    "\n",
    "plt.xlim(X1.min(), X1.max())\n",
    "plt.ylim(X2.min(), X2.max())\n",
    "\n",
    "for i, j in enumerate(np.unique(y_set)):\n",
    "\tplt.scatter(X_set[y_set == j, 0], X_set[y_set == j, 1],\n",
    "\t\t\t\tc = ListedColormap(('red', 'green', 'blue'))(i), label = j)\n",
    "\n",
    "plt.title('Logistic Regression (Training set)')\n",
    "plt.xlabel('PC1') # for Xlabel\n",
    "plt.ylabel('PC2') # for Ylabel\n",
    "plt.legend() # to show legend\n",
    "\n",
    "# show scatter plot\n",
    "plt.show()\n"
   ]
  },
  {
   "cell_type": "code",
   "execution_count": 10,
   "metadata": {},
   "outputs": [
    {
     "name": "stderr",
     "output_type": "stream",
     "text": [
      "C:\\Users\\shrey\\AppData\\Local\\Temp\\ipykernel_12652\\730014237.py:19: UserWarning: *c* argument looks like a single numeric RGB or RGBA sequence, which should be avoided as value-mapping will have precedence in case its length matches with *x* & *y*.  Please use the *color* keyword-argument or provide a 2D array with a single row if you intend to specify the same RGB or RGBA value for all points.\n",
      "  plt.scatter(X_set[y_set == j, 0], X_set[y_set == j, 1],\n"
     ]
    },
    {
     "data": {
      "image/png": "[encoded data removed]",
      "text/plain": [
       "<Figure size 640x480 with 1 Axes>"
      ]
     },
     "metadata": {},
     "output_type": "display_data"
    }
   ],
   "source": [
    "# Visualising the Test set results through scatter plot\n",
    "from matplotlib.colors import ListedColormap\n",
    "\n",
    "X_set, y_set = X_test, y_test\n",
    "\n",
    "X1, X2 = np.meshgrid(np.arange(start = X_set[:, 0].min() - 1,\n",
    "\t\t\t\t\tstop = X_set[:, 0].max() + 1, step = 0.01),\n",
    "\t\t\t\t\tnp.arange(start = X_set[:, 1].min() - 1,\n",
    "\t\t\t\t\tstop = X_set[:, 1].max() + 1, step = 0.01))\n",
    "\n",
    "plt.contourf(X1, X2, classifier.predict(np.array([X1.ravel(),\n",
    "\t\t\tX2.ravel()]).T).reshape(X1.shape), alpha = 0.75,\n",
    "\t\t\tcmap = ListedColormap(('yellow', 'white', 'aquamarine'))) \n",
    "\n",
    "plt.xlim(X1.min(), X1.max())\n",
    "plt.ylim(X2.min(), X2.max())\n",
    "\n",
    "for i, j in enumerate(np.unique(y_set)):\n",
    "\tplt.scatter(X_set[y_set == j, 0], X_set[y_set == j, 1],\n",
    "\t\t\t\tc = ListedColormap(('red', 'green', 'blue'))(i), label = j)\n",
    "\n",
    "# title for scatter plot\n",
    "plt.title('Logistic Regression (Test set)') \n",
    "plt.xlabel('PC1') # for Xlabel\n",
    "plt.ylabel('PC2') # for Ylabel\n",
    "plt.legend()\n",
    "\n",
    "# show scatter plot\n",
    "plt.show()\n"
   ]
  },
  {
   "cell_type": "code",
   "execution_count": 15,
   "metadata": {},
   "outputs": [
    {
     "data": {
      "application/vnd.plotly.v1+json": {
       "config": {
        "plotlyServerURL": "https://plot.ly"
       },
       "data": [
        {
         "diagonal": {
          "visible": false
         },
         "dimensions": [
          {
           "axis": {
            "matches": true
           },
           "label": "PC 1 (92.5%)",
           "values": [
            -2.6842071251039483,
            -2.715390615634137,
            -2.889819539617918,
            -2.746437197308736,
            -2.7285929818313153,
            -2.279897361009598,
            -2.8208906821806314,
            -2.62648199332382,
            -2.887958565335636,
            -2.6738446867191215,
            -2.5065267893389036,
            -2.6131427182710567,
            -2.7874339759970983,
            -3.2252004462749824,
            -2.6435432169411466,
            -2.3838693237993756,
            -2.6225262031258088,
            -2.6483227324791274,
            -2.199077961430763,
            -2.5873461889177385,
            -2.310531701313134,
            -2.5432349073036957,
            -3.2158576949001065,
            -2.3031285376638837,
            -2.3561710866838985,
            -2.5079172268378813,
            -2.469055997545124,
            -2.5623909468367505,
            -2.6398212683765823,
            -2.6328479080307585,
            -2.5884620513033925,
            -2.410077337121596,
            -2.6476366733969003,
            -2.5971594770759183,
            -2.6738446867191215,
            -2.866999846932535,
            -2.625228464680421,
            -2.6738446867191215,
            -2.9818426648539096,
            -2.5903230255856746,
            -2.770138910746325,
            -2.8522110815663932,
            -2.998296442832353,
            -2.4055141012847012,
            -2.2088329541767058,
            -2.715665190747455,
            -2.537573371013507,
            -2.84032129682701,
            -2.542685757077049,
            -2.7039123148636515
           ]
          },
          {
           "axis": {
            "matches": true
           },
           "label": "PC 2 (5.3%)",
           "values": [
            0.3266073147643873,
            -0.16955684755602485,
            -0.1373456096050275,
            -0.3111243157519918,
            0.33392456356845496,
            0.7477827132251336,
            -0.08210451102468072,
            0.1704053489602899,
            -0.5707980263315916,
            -0.10669170375273855,
            0.6519350136725719,
            0.021520631960258146,
            -0.22774018887110634,
            -0.5032799094854259,
            1.1861948994134492,
            1.3447543445598626,
            0.8180896745965951,
            0.3191366677508846,
            0.8792440880917364,
            0.520473638805968,
            0.39786782158889195,
            0.4400317546598154,
            0.14161557162558375,
            0.10552267842998223,
            -0.031209589068338105,
            -0.1390563399131743,
            0.13788731459041775,
            0.3746845627501059,
            0.3192900659603218,
            -0.1900758306336239,
            -0.1973930794376908,
            0.4180800082476161,
            0.8199826325595073,
            1.1000219280072687,
            -0.10669170375273855,
            0.07719309572358718,
            0.6068000084215861,
            -0.10669170375273855,
            -0.48025004885607653,
            0.23605933728887282,
            0.2710594197651671,
            -0.9328653674695446,
            -0.33430757459077703,
            0.1959172576960608,
            0.44269603042100303,
            -0.24268148289811303,
            0.5103675454766059,
            -0.22057633827647657,
            0.5862810253439885,
            0.11501085217050559
           ]
          },
          {
           "axis": {
            "matches": true
           },
           "label": "PC 3 (1.7%)",
           "values": [
            -0.021511837001962734,
            -0.203521425005492,
            0.024709240998957206,
            0.03767197528530124,
            0.09622969977460923,
            0.17432561901640264,
            0.2642510851906962,
            -0.015801510264314967,
            0.027335406114507386,
            -0.19153329973564465,
            -0.0692749958139312,
            0.10765035324990471,
            -0.20032778809538923,
            0.06841362917233058,
            -0.14450570400963575,
            0.2837306639397768,
            0.14531598882161764,
            0.03339425407069798,
            -0.1145214647983531,
            0.2195720880008249,
            -0.23369560709796952,
            0.21483637027967536,
            0.2996189815108713,
            0.04568004127448714,
            0.12940757589599344,
            -0.2471163378908597,
            0.10126307942970231,
            -0.07235915743602833,
            -0.13925337377853475,
            0.04646646364504581,
            -0.07127507313152599,
            -0.13838824005004097,
            0.23058560425417257,
            0.16358191262366228,
            -0.19153329973564465,
            -0.15684235049802422,
            -0.2611631564817058,
            -0.19153329973564465,
            0.07972480735962142,
            -0.0739012382470765,
            0.08424157450476318,
            -0.34096149110715135,
            0.19900842494724202,
            0.2707170703688334,
            0.30348780926827035,
            -0.09051560595006826,
            0.1719184044768606,
            0.09006137653041528,
            -0.011175267831169195,
            -0.08269572660682159
           ]
          },
          {
           "axis": {
            "matches": true
           },
           "label": "PC 4 (0.5%)",
           "values": [
            0.001006157241540727,
            0.0996024240168193,
            0.019304542832510187,
            -0.0759552741085358,
            -0.06312873271710952,
            -0.027146803697900974,
            -0.05009962506284989,
            -0.04628176096650987,
            -0.026615414325656193,
            -0.05589096599605567,
            -0.016608247824484165,
            -0.15770456913321196,
            -0.007235086738119083,
            -0.02194666412340749,
            0.15698096151652358,
            0.0019261817096647626,
            0.1647407912340746,
            0.07611821327962341,
            0.02532693965637582,
            -0.06908199117876082,
            -0.015323739565081367,
            0.038439500101117914,
            0.0018570433474499632,
            0.14724549964039957,
            -0.3016202653321937,
            0.03538408126768305,
            0.05597045237666045,
            -0.015240286774598594,
            0.06514104720019225,
            -0.12461115336647242,
            -0.0604762634078218,
            0.2308441699770707,
            -0.28480895426346114,
            -0.09895807058362005,
            -0.05589096599605567,
            0.1624528057160655,
            0.17587987484195122,
            -0.05589096599605567,
            -0.011052950834459204,
            -0.014556306249655931,
            0.09236465729576326,
            0.3226506066130544,
            -0.0758718213180528,
            0.1737851292110279,
            -0.1858575300726545,
            0.1429890253380452,
            -0.19216594594983705,
            -0.06039281061733872,
            -0.048333702541338314,
            0.03409957300828093
           ]
          }
         ],
         "hovertemplate": "color=setosa<br>%{xaxis.title.text}=%{x}<br>%{yaxis.title.text}=%{y}<extra></extra>",
         "legendgroup": "setosa",
         "marker": {
          "color": "#636efa",
          "symbol": "circle"
         },
         "name": "setosa",
         "showlegend": true,
         "type": "splom"
        },
        {
         "diagonal": {
          "visible": false
         },
         "dimensions": [
          {
           "axis": {
            "matches": true
           },
           "label": "PC 1 (92.5%)",
           "values": [
            1.2847945878450728,
            0.932410752982918,
            1.4640613227790764,
            0.18096720634769842,
            1.0871344872070015,
            0.6404367495231458,
            1.0952237099384792,
            -0.7514671406482276,
            1.0432977807062818,
            -0.01019007072785384,
            -0.5110861958950912,
            0.5110980606834777,
            0.26233575615318006,
            0.9840445451694314,
            -0.17486400196569626,
            0.9275729420327,
            0.6595927890562006,
            0.23454058625983568,
            0.942361707398842,
            0.043246400328704256,
            1.1162407237538159,
            0.3567865678304612,
            1.2964688502855344,
            0.9205026489090097,
            0.7140082136428336,
            0.8996408632837773,
            1.3310414188547202,
            1.557396272070703,
            0.8124555489980023,
            -0.30733475566340457,
            -0.07034288894927213,
            -0.1918844921031462,
            0.13499495045137336,
            1.378736982775583,
            0.5872748535799109,
            0.8072054966767169,
            1.2204289662446801,
            0.8128677903690702,
            0.24519516169034583,
            0.1645134283692555,
            0.46303098887142413,
            0.8901604456511567,
            0.22887904996964772,
            -0.7070812839208611,
            0.35553303918706364,
            0.3311269473327229,
            0.37523822894676595,
            0.6416902781665436,
            -0.9084633331234959,
            0.2978079074069339
           ]
          },
          {
           "axis": {
            "matches": true
           },
           "label": "PC 2 (5.3%)",
           "values": [
            0.68543918613292,
            0.3191980898336488,
            0.504189832972453,
            -0.8256039435761131,
            0.07539038928876729,
            -0.4173234829700257,
            0.2838912109384804,
            -1.001107512974394,
            0.22895690877700664,
            -0.7205748667019016,
            -1.2624919538621409,
            -0.1022841050459702,
            -0.5478932980253368,
            -0.1243604202222779,
            -0.25181557108017055,
            0.468236205043117,
            -0.3519762910603163,
            -0.3319218293621204,
            -0.5418222581500143,
            -0.5814894466123587,
            -0.08421401387837321,
            -0.06682382794136629,
            -0.32756151979494436,
            -0.18239036332792097,
            0.1503791531484371,
            0.32961097958188385,
            0.24466952060228916,
            0.26739258481276473,
            -0.16233157487863326,
            -0.3650866127661605,
            -0.7025379317307261,
            -0.6774905443743574,
            -0.31170964270339624,
            -0.4212051382146283,
            -0.4832842677174821,
            0.19505396377111178,
            0.40803533700101746,
            -0.37067899831891,
            -0.26672803566184783,
            -0.6796614693108137,
            -0.6695265465361224,
            -0.03381244274676262,
            -0.4022576201789114,
            -1.008424761778461,
            -0.5032184874026623,
            -0.21118014066262653,
            -0.2916220248087797,
            0.019071176491270683,
            -0.7515687251694855,
            -0.3470165215985639
           ]
          },
          {
           "axis": {
            "matches": true
           },
           "label": "PC 3 (1.7%)",
           "values": [
            -0.4061295530769634,
            -0.017129909205125422,
            -0.33826072771795906,
            -0.1770828563933646,
            -0.30654446481443176,
            0.041188769353644454,
            0.17002253374149975,
            0.015672194238160363,
            -0.41481456614870393,
            0.28343724625412586,
            -0.2664899538224496,
            0.13232789047497376,
            -0.6919415783189645,
            -0.062157427613538804,
            0.09365863819195047,
            -0.31322940056857745,
            0.3283842970693479,
            -0.27028067083569357,
            -0.49734854117770433,
            -0.23296355648252265,
            0.45984422657275326,
            -0.22747218032088326,
            -0.34751321258425016,
            -0.23161141855267003,
            -0.32037233282926975,
            -0.31477148137962574,
            -0.5212449247379849,
            -0.16463849085222873,
            0.03634357634449071,
            -0.31533719693891993,
            -0.24175804484226776,
            -0.3039165434636245,
            -0.17497330378776513,
            0.015480495121708399,
            0.44458375303487097,
            0.3894587113862025,
            -0.23656608684982813,
            -0.612871050060673,
            0.189562484729242,
            -0.05779923880574395,
            -0.02405389088980919,
            -0.009768026368424802,
            -0.22736270503287917,
            -0.1020693425384113,
            0.017889465896507667,
            0.08380907322251574,
            0.07907335550136599,
            -0.20417287686374624,
            -0.007736584506980519,
            0.0121791391588594
           ]
          },
          {
           "axis": {
            "matches": true
           },
           "label": "PC 4 (0.5%)",
           "values": [
            0.01929011685534353,
            -0.000006757941710408049,
            -0.0008576440476193371,
            0.09578444837157978,
            0.11338453900933691,
            -0.24267131206866582,
            -0.08497338932826706,
            -0.016510592154629807,
            -0.03752355359177022,
            -0.0059457019750934524,
            0.04890880606342317,
            0.05010053515659477,
            0.061484989083400145,
            -0.16901066987095256,
            0.12494088656962876,
            0.10043888414556001,
            -0.18899152519294934,
            -0.21198499529228562,
            0.2606366850425493,
            -0.03956118073833019,
            -0.07721355961071595,
            0.12409000046371998,
            0.003246239102036918,
            -0.28682534670531995,
            0.042941233173503755,
            0.10112286467050258,
            0.03750504965582883,
            0.07035309510363975,
            -0.02968027108373625,
            0.07653037763062082,
            0.009094698519606705,
            -0.01804545878548172,
            0.03418291424986639,
            -0.1775807369600241,
            -0.2524424346266572,
            -0.1166153912546379,
            0.0316352439846605,
            0.1577004911744361,
            -0.14732804233713756,
            0.03096557788798618,
            -0.2684435083238687,
            -0.15344820637975512,
            0.018620450758669232,
            0.04762429780402084,
            -0.0980716353447415,
            -0.23868654239135975,
            -0.1311650511114808,
            -0.020509676260204394,
            0.23355863427434517,
            -0.05078371713668976
           ]
          }
         ],
         "hovertemplate": "color=versicolor<br>%{xaxis.title.text}=%{x}<br>%{yaxis.title.text}=%{y}<extra></extra>",
         "legendgroup": "versicolor",
         "marker": {
          "color": "#EF553B",
          "symbol": "circle"
         },
         "name": "versicolor",
         "showlegend": true,
         "type": "splom"
        },
        {
         "diagonal": {
          "visible": false
         },
         "dimensions": [
          {
           "axis": {
            "matches": true
           },
           "label": "PC 1 (92.5%)",
           "values": [
            2.5317269804395597,
            1.4140722251737576,
            2.6164846082840447,
            1.970814945906483,
            2.3497579839509433,
            3.3968799206781384,
            0.5193832450849359,
            2.9320050969913027,
            2.3196727938740542,
            2.9181342336442535,
            1.6619349470194877,
            1.8023404526607343,
            2.1653788629533985,
            1.3445942175098244,
            1.5852672993086436,
            1.9047435782139126,
            1.9492487818644986,
            3.488765379656388,
            3.794686861209972,
            1.298329824567816,
            2.4281672590208503,
            1.1980973722749628,
            3.4992654842989594,
            1.3876682501815565,
            2.2758536493056956,
            2.614193830698335,
            1.2576251829251368,
            1.2906696477376018,
            2.122853980508314,
            2.387564402369029,
            2.840960925285386,
            3.232342898295877,
            2.158738373133136,
            1.4431026043759752,
            1.7796401068985708,
            3.0765216210206634,
            2.1449868567093047,
            1.9048629251371327,
            1.1688534694704038,
            2.1076537311732695,
            2.314303394629549,
            1.922450884835754,
            1.4140722251737576,
            2.5633227123408107,
            2.4193912198049814,
            1.9440170488777384,
            1.525663631313873,
            1.7640459355269837,
            1.901629075288233,
            1.3896661333194171
           ]
          },
          {
           "axis": {
            "matches": true
           },
           "label": "PC 2 (5.3%)",
           "values": [
            -0.01184223664030021,
            -0.5749250559123047,
            0.34193528698729464,
            -0.18112569470491363,
            -0.041882549654841755,
            0.5471680462301525,
            -1.1913516890506528,
            0.3523770061808596,
            -0.24554817060691023,
            0.780380629372032,
            0.24203840103752247,
            -0.21615460662653638,
            0.2152802833730072,
            -0.7764154251768249,
            -0.539307053847172,
            0.11881899098269873,
            0.040730259427767875,
            1.1715445442635641,
            0.2532655709725344,
            -0.7610139365215078,
            0.37678197125415264,
            -0.6055789617645944,
            0.45677346696407445,
            -0.20403098657015492,
            0.3333865257566423,
            0.5583669502788224,
            -0.17913699742322284,
            -0.11642525182937238,
            -0.2108548845494899,
            0.46251925072626043,
            0.3727425910490212,
            1.3705240359763335,
            -0.21832553156299325,
            -0.14380128908272616,
            -0.5014647947060155,
            0.6857644422460564,
            0.1389066088773148,
            0.04804750823183475,
            -0.1645024998150898,
            0.37148224917710576,
            0.18260885079369857,
            0.40927117617869546,
            -0.5749250559123047,
            0.2759745022398382,
            0.3035039377026289,
            0.18741522204601382,
            -0.3750208481918231,
            0.07851918642935744,
            0.11587674824796598,
            -0.282886709172269
           ]
          },
          {
           "axis": {
            "matches": true
           },
           "label": "PC 3 (1.7%)",
           "values": [
            0.7584586515284955,
            0.2963982243052133,
            -0.11214137055436688,
            0.10653914864984597,
            0.2841106808661673,
            -0.35187315762730165,
            0.5466855311249491,
            -0.423691278336897,
            -0.3499221833590494,
            0.4217389336137672,
            0.242815263467593,
            -0.037695328493964696,
            0.03314818319913303,
            0.2828680182243185,
            0.6305704884623257,
            0.4801380797657283,
            0.04272909392943653,
            0.12932008336177506,
            -0.5169707159938951,
            -0.3448870474686996,
            0.21864907004670503,
            0.5126407650398149,
            -0.5769101867216485,
            -0.06351132177864807,
            0.2846781526607177,
            -0.20842334661879358,
            0.04697780744922714,
            0.23161356056830604,
            0.1535158850912552,
            -0.45202396144912754,
            -0.5010315391382015,
            -0.11844877739515836,
            0.2084219761639157,
            -0.1540829711054271,
            -0.1758111860567032,
            -0.336422741208224,
            0.7341847390548599,
            0.1604706307060083,
            0.28246088100237127,
            0.02743785646148509,
            0.3228604007423824,
            0.11549281596071716,
            0.2963982243052133,
            0.2912536131268595,
            0.5043025169513595,
            0.1793028706811266,
            -0.12063644074491203,
            0.13078405342866878,
            0.7228735608675684,
            0.3623178316312214
           ]
          },
          {
           "axis": {
            "matches": true
           },
           "label": "PC 4 (0.5%)",
           "values": [
            -0.03259956851444914,
            -0.015695478279485937,
            0.06595604952643849,
            -0.23685862488186102,
            -0.001312724003609049,
            -0.11121996802024856,
            -0.09879841992577909,
            -0.25540736884427856,
            -0.07626286251324566,
            0.1077293194788529,
            0.11944758456759065,
            0.07871345255565045,
            0.16266728030785255,
            0.14048189225832983,
            0.327455366669128,
            0.21711450049899497,
            -0.15784525195695595,
            -0.31162983793268056,
            0.056451643540974615,
            -0.042673718056128636,
            0.1838541791512892,
            0.05950003054907899,
            -0.1377595975908771,
            0.16376353673268973,
            -0.06223027760037961,
            -0.24044543308754096,
            0.14760054550703336,
            0.0030843215735913863,
            0.05261243319103638,
            -0.22990687721412367,
            -0.020216625381557395,
            -0.25448734437615494,
            0.12772448922911855,
            -0.1899258640893409,
            -0.5035294527425075,
            0.31058909243773936,
            0.051766535137647646,
            -0.2219801419156067,
            0.01933076558973161,
            0.20995519851590377,
            0.27589665973045435,
            0.50409500679105,
            -0.015695478279485937,
            0.05618492696844703,
            0.2382179465519487,
            0.4250816338661444,
            0.25572256452137165,
            0.13629455631819007,
            0.04087282184869933,
            -0.1563103853261041
           ]
          }
         ],
         "hovertemplate": "color=virginica<br>%{xaxis.title.text}=%{x}<br>%{yaxis.title.text}=%{y}<extra></extra>",
         "legendgroup": "virginica",
         "marker": {
          "color": "#00cc96",
          "symbol": "circle"
         },
         "name": "virginica",
         "showlegend": true,
         "type": "splom"
        }
       ],
       "layout": {
        "dragmode": "select",
        "height": 800,
        "legend": {
         "title": {
          "text": "color"
         },
         "tracegroupgap": 0
        },
        "margin": {
         "t": 60
        },
        "template": {
         "data": {
          "bar": [
           {
            "error_x": {
             "color": "#2a3f5f"
            },
            "error_y": {
             "color": "#2a3f5f"
            },
            "marker": {
             "line": {
              "color": "#E5ECF6",
              "width": 0.5
             },
             "pattern": {
              "fillmode": "overlay",
              "size": 10,
              "solidity": 0.2
             }
            },
            "type": "bar"
           }
          ],
          "barpolar": [
           {
            "marker": {
             "line": {
              "color": "#E5ECF6",
              "width": 0.5
             },
             "pattern": {
              "fillmode": "overlay",
              "size": 10,
              "solidity": 0.2
             }
            },
            "type": "barpolar"
           }
          ],
          "carpet": [
           {
            "aaxis": {
             "endlinecolor": "#2a3f5f",
             "gridcolor": "white",
             "linecolor": "white",
             "minorgridcolor": "white",
             "startlinecolor": "#2a3f5f"
            },
            "baxis": {
             "endlinecolor": "#2a3f5f",
             "gridcolor": "white",
             "linecolor": "white",
             "minorgridcolor": "white",
             "startlinecolor": "#2a3f5f"
            },
            "type": "carpet"
           }
          ],
          "choropleth": [
           {
            "colorbar": {
             "outlinewidth": 0,
             "ticks": ""
            },
            "type": "choropleth"
           }
          ],
          "contour": [
           {
            "colorbar": {
             "outlinewidth": 0,
             "ticks": ""
            },
            "colorscale": [
             [
              0,
              "#0d0887"
             ],
             [
              0.1111111111111111,
              "#46039f"
             ],
             [
              0.2222222222222222,
              "#7201a8"
             ],
             [
              0.3333333333333333,
              "#9c179e"
             ],
             [
              0.4444444444444444,
              "#bd3786"
             ],
             [
              0.5555555555555556,
              "#d8576b"
             ],
             [
              0.6666666666666666,
              "#ed7953"
             ],
             [
              0.7777777777777778,
              "#fb9f3a"
             ],
             [
              0.8888888888888888,
              "#fdca26"
             ],
             [
              1,
              "#f0f921"
             ]
            ],
            "type": "contour"
           }
          ],
          "contourcarpet": [
           {
            "colorbar": {
             "outlinewidth": 0,
             "ticks": ""
            },
            "type": "contourcarpet"
           }
          ],
          "heatmap": [
           {
            "colorbar": {
             "outlinewidth": 0,
             "ticks": ""
            },
            "colorscale": [
             [
              0,
              "#0d0887"
             ],
             [
              0.1111111111111111,
              "#46039f"
             ],
             [
              0.2222222222222222,
              "#7201a8"
             ],
             [
              0.3333333333333333,
              "#9c179e"
             ],
             [
              0.4444444444444444,
              "#bd3786"
             ],
             [
              0.5555555555555556,
              "#d8576b"
             ],
             [
              0.6666666666666666,
              "#ed7953"
             ],
             [
              0.7777777777777778,
              "#fb9f3a"
             ],
             [
              0.8888888888888888,
              "#fdca26"
             ],
             [
              1,
              "#f0f921"
             ]
            ],
            "type": "heatmap"
           }
          ],
          "heatmapgl": [
           {
            "colorbar": {
             "outlinewidth": 0,
             "ticks": ""
            },
            "colorscale": [
             [
              0,
              "#0d0887"
             ],
             [
              0.1111111111111111,
              "#46039f"
             ],
             [
              0.2222222222222222,
              "#7201a8"
             ],
             [
              0.3333333333333333,
              "#9c179e"
             ],
             [
              0.4444444444444444,
              "#bd3786"
             ],
             [
              0.5555555555555556,
              "#d8576b"
             ],
             [
              0.6666666666666666,
              "#ed7953"
             ],
             [
              0.7777777777777778,
              "#fb9f3a"
             ],
             [
              0.8888888888888888,
              "#fdca26"
             ],
             [
              1,
              "#f0f921"
             ]
            ],
            "type": "heatmapgl"
           }
          ],
          "histogram": [
           {
            "marker": {
             "pattern": {
              "fillmode": "overlay",
              "size": 10,
              "solidity": 0.2
             }
            },
            "type": "histogram"
           }
          ],
          "histogram2d": [
           {
            "colorbar": {
             "outlinewidth": 0,
             "ticks": ""
            },
            "colorscale": [
             [
              0,
              "#0d0887"
             ],
             [
              0.1111111111111111,
              "#46039f"
             ],
             [
              0.2222222222222222,
              "#7201a8"
             ],
             [
              0.3333333333333333,
              "#9c179e"
             ],
             [
              0.4444444444444444,
              "#bd3786"
             ],
             [
              0.5555555555555556,
              "#d8576b"
             ],
             [
              0.6666666666666666,
              "#ed7953"
             ],
             [
              0.7777777777777778,
              "#fb9f3a"
             ],
             [
              0.8888888888888888,
              "#fdca26"
             ],
             [
              1,
              "#f0f921"
             ]
            ],
            "type": "histogram2d"
           }
          ],
          "histogram2dcontour": [
           {
            "colorbar": {
             "outlinewidth": 0,
             "ticks": ""
            },
            "colorscale": [
             [
              0,
              "#0d0887"
             ],
             [
              0.1111111111111111,
              "#46039f"
             ],
             [
              0.2222222222222222,
              "#7201a8"
             ],
             [
              0.3333333333333333,
              "#9c179e"
             ],
             [
              0.4444444444444444,
              "#bd3786"
             ],
             [
              0.5555555555555556,
              "#d8576b"
             ],
             [
              0.6666666666666666,
              "#ed7953"
             ],
             [
              0.7777777777777778,
              "#fb9f3a"
             ],
             [
              0.8888888888888888,
              "#fdca26"
             ],
             [
              1,
              "#f0f921"
             ]
            ],
            "type": "histogram2dcontour"
           }
          ],
          "mesh3d": [
           {
            "colorbar": {
             "outlinewidth": 0,
             "ticks": ""
            },
            "type": "mesh3d"
           }
          ],
          "parcoords": [
           {
            "line": {
             "colorbar": {
              "outlinewidth": 0,
              "ticks": ""
             }
            },
            "type": "parcoords"
           }
          ],
          "pie": [
           {
            "automargin": true,
            "type": "pie"
           }
          ],
          "scatter": [
           {
            "fillpattern": {
             "fillmode": "overlay",
             "size": 10,
             "solidity": 0.2
            },
            "type": "scatter"
           }
          ],
          "scatter3d": [
           {
            "line": {
             "colorbar": {
              "outlinewidth": 0,
              "ticks": ""
             }
            },
            "marker": {
             "colorbar": {
              "outlinewidth": 0,
              "ticks": ""
             }
            },
            "type": "scatter3d"
           }
          ],
          "scattercarpet": [
           {
            "marker": {
             "colorbar": {
              "outlinewidth": 0,
              "ticks": ""
             }
            },
            "type": "scattercarpet"
           }
          ],
          "scattergeo": [
           {
            "marker": {
             "colorbar": {
              "outlinewidth": 0,
              "ticks": ""
             }
            },
            "type": "scattergeo"
           }
          ],
          "scattergl": [
           {
            "marker": {
             "colorbar": {
              "outlinewidth": 0,
              "ticks": ""
             }
            },
            "type": "scattergl"
           }
          ],
          "scattermapbox": [
           {
            "marker": {
             "colorbar": {
              "outlinewidth": 0,
              "ticks": ""
             }
            },
            "type": "scattermapbox"
           }
          ],
          "scatterpolar": [
           {
            "marker": {
             "colorbar": {
              "outlinewidth": 0,
              "ticks": ""
             }
            },
            "type": "scatterpolar"
           }
          ],
          "scatterpolargl": [
           {
            "marker": {
             "colorbar": {
              "outlinewidth": 0,
              "ticks": ""
             }
            },
            "type": "scatterpolargl"
           }
          ],
          "scatterternary": [
           {
            "marker": {
             "colorbar": {
              "outlinewidth": 0,
              "ticks": ""
             }
            },
            "type": "scatterternary"
           }
          ],
          "surface": [
           {
            "colorbar": {
             "outlinewidth": 0,
             "ticks": ""
            },
            "colorscale": [
             [
              0,
              "#0d0887"
             ],
             [
              0.1111111111111111,
              "#46039f"
             ],
             [
              0.2222222222222222,
              "#7201a8"
             ],
             [
              0.3333333333333333,
              "#9c179e"
             ],
             [
              0.4444444444444444,
              "#bd3786"
             ],
             [
              0.5555555555555556,
              "#d8576b"
             ],
             [
              0.6666666666666666,
              "#ed7953"
             ],
             [
              0.7777777777777778,
              "#fb9f3a"
             ],
             [
              0.8888888888888888,
              "#fdca26"
             ],
             [
              1,
              "#f0f921"
             ]
            ],
            "type": "surface"
           }
          ],
          "table": [
           {
            "cells": {
             "fill": {
              "color": "#EBF0F8"
             },
             "line": {
              "color": "white"
             }
            },
            "header": {
             "fill": {
              "color": "#C8D4E3"
             },
             "line": {
              "color": "white"
             }
            },
            "type": "table"
           }
          ]
         },
         "layout": {
          "annotationdefaults": {
           "arrowcolor": "#2a3f5f",
           "arrowhead": 0,
           "arrowwidth": 1
          },
          "autotypenumbers": "strict",
          "coloraxis": {
           "colorbar": {
            "outlinewidth": 0,
            "ticks": ""
           }
          },
          "colorscale": {
           "diverging": [
            [
             0,
             "#8e0152"
            ],
            [
             0.1,
             "#c51b7d"
            ],
            [
             0.2,
             "#de77ae"
            ],
            [
             0.3,
             "#f1b6da"
            ],
            [
             0.4,
             "#fde0ef"
            ],
            [
             0.5,
             "#f7f7f7"
            ],
            [
             0.6,
             "#e6f5d0"
            ],
            [
             0.7,
             "#b8e186"
            ],
            [
             0.8,
             "#7fbc41"
            ],
            [
             0.9,
             "#4d9221"
            ],
            [
             1,
             "#276419"
            ]
           ],
           "sequential": [
            [
             0,
             "#0d0887"
            ],
            [
             0.1111111111111111,
             "#46039f"
            ],
            [
             0.2222222222222222,
             "#7201a8"
            ],
            [
             0.3333333333333333,
             "#9c179e"
            ],
            [
             0.4444444444444444,
             "#bd3786"
            ],
            [
             0.5555555555555556,
             "#d8576b"
            ],
            [
             0.6666666666666666,
             "#ed7953"
            ],
            [
             0.7777777777777778,
             "#fb9f3a"
            ],
            [
             0.8888888888888888,
             "#fdca26"
            ],
            [
             1,
             "#f0f921"
            ]
           ],
           "sequentialminus": [
            [
             0,
             "#0d0887"
            ],
            [
             0.1111111111111111,
             "#46039f"
            ],
            [
             0.2222222222222222,
             "#7201a8"
            ],
            [
             0.3333333333333333,
             "#9c179e"
            ],
            [
             0.4444444444444444,
             "#bd3786"
            ],
            [
             0.5555555555555556,
             "#d8576b"
            ],
            [
             0.6666666666666666,
             "#ed7953"
            ],
            [
             0.7777777777777778,
             "#fb9f3a"
            ],
            [
             0.8888888888888888,
             "#fdca26"
            ],
            [
             1,
             "#f0f921"
            ]
           ]
          },
          "colorway": [
           "#636efa",
           "#EF553B",
           "#00cc96",
           "#ab63fa",
           "#FFA15A",
           "#19d3f3",
           "#FF6692",
           "#B6E880",
           "#FF97FF",
           "#FECB52"
          ],
          "font": {
           "color": "#2a3f5f"
          },
          "geo": {
           "bgcolor": "white",
           "lakecolor": "white",
           "landcolor": "#E5ECF6",
           "showlakes": true,
           "showland": true,
           "subunitcolor": "white"
          },
          "hoverlabel": {
           "align": "left"
          },
          "hovermode": "closest",
          "mapbox": {
           "style": "light"
          },
          "paper_bgcolor": "white",
          "plot_bgcolor": "#E5ECF6",
          "polar": {
           "angularaxis": {
            "gridcolor": "white",
            "linecolor": "white",
            "ticks": ""
           },
           "bgcolor": "#E5ECF6",
           "radialaxis": {
            "gridcolor": "white",
            "linecolor": "white",
            "ticks": ""
           }
          },
          "scene": {
           "xaxis": {
            "backgroundcolor": "#E5ECF6",
            "gridcolor": "white",
            "gridwidth": 2,
            "linecolor": "white",
            "showbackground": true,
            "ticks": "",
            "zerolinecolor": "white"
           },
           "yaxis": {
            "backgroundcolor": "#E5ECF6",
            "gridcolor": "white",
            "gridwidth": 2,
            "linecolor": "white",
            "showbackground": true,
            "ticks": "",
            "zerolinecolor": "white"
           },
           "zaxis": {
            "backgroundcolor": "#E5ECF6",
            "gridcolor": "white",
            "gridwidth": 2,
            "linecolor": "white",
            "showbackground": true,
            "ticks": "",
            "zerolinecolor": "white"
           }
          },
          "shapedefaults": {
           "line": {
            "color": "#2a3f5f"
           }
          },
          "ternary": {
           "aaxis": {
            "gridcolor": "white",
            "linecolor": "white",
            "ticks": ""
           },
           "baxis": {
            "gridcolor": "white",
            "linecolor": "white",
            "ticks": ""
           },
           "bgcolor": "#E5ECF6",
           "caxis": {
            "gridcolor": "white",
            "linecolor": "white",
            "ticks": ""
           }
          },
          "title": {
           "x": 0.05
          },
          "xaxis": {
           "automargin": true,
           "gridcolor": "white",
           "linecolor": "white",
           "ticks": "",
           "title": {
            "standoff": 15
           },
           "zerolinecolor": "white",
           "zerolinewidth": 2
          },
          "yaxis": {
           "automargin": true,
           "gridcolor": "white",
           "linecolor": "white",
           "ticks": "",
           "title": {
            "standoff": 15
           },
           "zerolinecolor": "white",
           "zerolinewidth": 2
          }
         }
        },
        "width": 800
       }
      }
     },
     "metadata": {},
     "output_type": "display_data"
    }
   ],
   "source": [
    "import plotly.express as px\n",
    "from sklearn.decomposition import PCA\n",
    "\n",
    "df = px.data.iris()\n",
    "features = [\"sepal_width\", \"sepal_length\", \"petal_width\", \"petal_length\"]\n",
    "\n",
    "pca = PCA()\n",
    "components = pca.fit_transform(df[features])\n",
    "labels = {\n",
    "    str(i): f\"PC {i+1} ({var:.1f}%)\"\n",
    "    for i, var in enumerate(pca.explained_variance_ratio_ * 100)\n",
    "}\n",
    "\n",
    "fig = px.scatter_matrix(\n",
    "    components,\n",
    "    labels=labels,\n",
    "    dimensions=range(4),\n",
    "    color=df[\"species\"]\n",
    ")\n",
    "fig.update_traces(diagonal_visible=False)\n",
    "\n",
    "# Set the height and width of the figure\n",
    "fig.update_layout(\n",
    "    height=800,  # adjust this value as needed\n",
    "    width=800    # adjust this value as needed\n",
    ")\n",
    "\n",
    "fig.show()\n",
    "\n",
    "\n",
    "# Each row and column in the plot represents one of the principal components.\n",
    "# The scatter plots in the grid show the relationship between each pair of principal components.\n",
    "# The points in each scatter plot are colored based on the species of iris to show how the different species are distributed in the reduced-dimensional space defined by the principal components.\n",
    "# The diagonal entries of the plot are histograms showing the distribution of each principal component."
   ]
  },
  {
   "cell_type": "code",
   "execution_count": 17,
   "metadata": {},
   "outputs": [
    {
     "data": {
      "text/html": [
       "<div>\n",
       "<style scoped>\n",
       "    .dataframe tbody tr th:only-of-type {\n",
       "        vertical-align: middle;\n",
       "    }\n",
       "\n",
       "    .dataframe tbody tr th {\n",
       "        vertical-align: top;\n",
       "    }\n",
       "\n",
       "    .dataframe thead th {\n",
       "        text-align: right;\n",
       "    }\n",
       "</style>\n",
       "<table border=\"1\" class=\"dataframe\">\n",
       "  <thead>\n",
       "    <tr style=\"text-align: right;\">\n",
       "      <th></th>\n",
       "      <th>sepal_length</th>\n",
       "      <th>sepal_width</th>\n",
       "      <th>petal_length</th>\n",
       "      <th>petal_width</th>\n",
       "      <th>species</th>\n",
       "      <th>species_id</th>\n",
       "    </tr>\n",
       "  </thead>\n",
       "  <tbody>\n",
       "    <tr>\n",
       "      <th>0</th>\n",
       "      <td>5.1</td>\n",
       "      <td>3.5</td>\n",
       "      <td>1.4</td>\n",
       "      <td>0.2</td>\n",
       "      <td>setosa</td>\n",
       "      <td>1</td>\n",
       "    </tr>\n",
       "    <tr>\n",
       "      <th>1</th>\n",
       "      <td>4.9</td>\n",
       "      <td>3.0</td>\n",
       "      <td>1.4</td>\n",
       "      <td>0.2</td>\n",
       "      <td>setosa</td>\n",
       "      <td>1</td>\n",
       "    </tr>\n",
       "    <tr>\n",
       "      <th>2</th>\n",
       "      <td>4.7</td>\n",
       "      <td>3.2</td>\n",
       "      <td>1.3</td>\n",
       "      <td>0.2</td>\n",
       "      <td>setosa</td>\n",
       "      <td>1</td>\n",
       "    </tr>\n",
       "    <tr>\n",
       "      <th>3</th>\n",
       "      <td>4.6</td>\n",
       "      <td>3.1</td>\n",
       "      <td>1.5</td>\n",
       "      <td>0.2</td>\n",
       "      <td>setosa</td>\n",
       "      <td>1</td>\n",
       "    </tr>\n",
       "    <tr>\n",
       "      <th>4</th>\n",
       "      <td>5.0</td>\n",
       "      <td>3.6</td>\n",
       "      <td>1.4</td>\n",
       "      <td>0.2</td>\n",
       "      <td>setosa</td>\n",
       "      <td>1</td>\n",
       "    </tr>\n",
       "  </tbody>\n",
       "</table>\n",
       "</div>"
      ],
      "text/plain": [
       "   sepal_length  sepal_width  petal_length  petal_width species  species_id\n",
       "0           5.1          3.5           1.4          0.2  setosa           1\n",
       "1           4.9          3.0           1.4          0.2  setosa           1\n",
       "2           4.7          3.2           1.3          0.2  setosa           1\n",
       "3           4.6          3.1           1.5          0.2  setosa           1\n",
       "4           5.0          3.6           1.4          0.2  setosa           1"
      ]
     },
     "execution_count": 17,
     "metadata": {},
     "output_type": "execute_result"
    }
   ],
   "source": [
    "df.head()"
   ]
  }
 ],
 "metadata": {
  "kernelspec": {
   "display_name": "Python 3",
   "language": "python",
   "name": "python3"
  },
  "language_info": {
   "codemirror_mode": {
    "name": "ipython",
    "version": 3
   },
   "file_extension": ".py",
   "mimetype": "text/x-python",
   "name": "python",
   "nbconvert_exporter": "python",
   "pygments_lexer": "ipython3",
   "version": "3.12.3"
  }
 },
 "nbformat": 4,
 "nbformat_minor": 2
}
