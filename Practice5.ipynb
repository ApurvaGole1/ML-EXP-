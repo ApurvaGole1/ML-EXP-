{
 "cells": [
  {
   "cell_type": "code",
   "execution_count": 2,
   "metadata": {},
   "outputs": [
    {
     "name": "stdout",
     "output_type": "stream",
     "text": [
      "Logical NOT:\n",
      "Input: [0], Output: 1\n",
      "Input: [1], Output: 0\n",
      "\n",
      "Logical OR:\n",
      "Input: [0, 0], Output: 0\n",
      "Input: [0, 1], Output: 1\n",
      "Input: [1, 0], Output: 1\n",
      "Input: [1, 1], Output: 1\n",
      "\n",
      "Logical AND:\n",
      "Input: [0, 0], Output: 0\n",
      "Input: [0, 1], Output: 0\n",
      "Input: [1, 0], Output: 0\n",
      "Input: [1, 1], Output: 1\n"
     ]
    }
   ],
   "source": [
    "class MCPNeuron:\n",
    "    def __init__(self, weights, threshold):\n",
    "        self.weights = weights\n",
    "        self.threshold = threshold\n",
    "\n",
    "    def activate(self, inputs):\n",
    "        return int(sum(input_val * weight for input_val, weight in zip(inputs, self.weights)) >= self.threshold)\n",
    "\n",
    "# Logical NOT function\n",
    "not_gate = MCPNeuron([-1], 0)\n",
    "\n",
    "# Logical OR function\n",
    "or_gate = MCPNeuron([1, 1], 1)\n",
    "\n",
    "# Logical AND function\n",
    "and_gate = MCPNeuron([1, 1], 2)\n",
    "\n",
    "# Test the gates\n",
    "inputs = [[0], [1]]\n",
    "print(\"Logical NOT:\")\n",
    "for input_val in inputs:\n",
    "    print(f\"Input: {input_val}, Output: {not_gate.activate(input_val)}\")\n",
    "\n",
    "inputs = [[0, 0], [0, 1], [1, 0], [1, 1]]\n",
    "print(\"\\nLogical OR:\")\n",
    "for input_val in inputs:\n",
    "    print(f\"Input: {input_val}, Output: {or_gate.activate(input_val)}\")\n",
    "\n",
    "print(\"\\nLogical AND:\")\n",
    "for input_val in inputs:\n",
    "    print(f\"Input: {input_val}, Output: {and_gate.activate(input_val)}\")\n"
   ]
  }
 ],
 "metadata": {
  "kernelspec": {
   "display_name": "Python 3",
   "language": "python",
   "name": "python3"
  },
  "language_info": {
   "codemirror_mode": {
    "name": "ipython",
    "version": 3
   },
   "file_extension": ".py",
   "mimetype": "text/x-python",
   "name": "python",
   "nbconvert_exporter": "python",
   "pygments_lexer": "ipython3",
   "version": "3.12.3"
  }
 },
 "nbformat": 4,
 "nbformat_minor": 2
}
